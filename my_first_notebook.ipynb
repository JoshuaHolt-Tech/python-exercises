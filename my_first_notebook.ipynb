{
 "cells": [
  {
   "cell_type": "markdown",
   "id": "c859a54c",
   "metadata": {},
   "source": [
    "# First Codeup Jypter Notebook"
   ]
  },
  {
   "cell_type": "code",
   "execution_count": 9,
   "id": "7d2ec762",
   "metadata": {},
   "outputs": [
    {
     "data": {
      "text/plain": [
       "float"
      ]
     },
     "execution_count": 9,
     "metadata": {},
     "output_type": "execute_result"
    }
   ],
   "source": [
    "type(123) #int\n",
    "type(\"hello\") #string\n",
    "type(True) #boolean\n",
    "type(3.32) #float"
   ]
  },
  {
   "cell_type": "code",
   "execution_count": 7,
   "id": "f09fde27",
   "metadata": {},
   "outputs": [],
   "source": [
    "# This displays the data type."
   ]
  },
  {
   "cell_type": "code",
   "execution_count": 10,
   "id": "b649c158",
   "metadata": {},
   "outputs": [],
   "source": [
    "# Assign a value to a variable\n",
    "favorite_number = 42\n",
    "n = favorite_number + 7"
   ]
  },
  {
   "cell_type": "code",
   "execution_count": 11,
   "id": "046b8a5f",
   "metadata": {},
   "outputs": [
    {
     "name": "stdout",
     "output_type": "stream",
     "text": [
      "42\n"
     ]
    }
   ],
   "source": [
    "# Print favorite_number\n",
    "print(favorite_number)"
   ]
  },
  {
   "cell_type": "code",
   "execution_count": 13,
   "id": "00d06e64",
   "metadata": {},
   "outputs": [
    {
     "data": {
      "text/plain": [
       "int"
      ]
     },
     "execution_count": 13,
     "metadata": {},
     "output_type": "execute_result"
    }
   ],
   "source": [
    "type(favorite_number)"
   ]
  },
  {
   "cell_type": "code",
   "execution_count": 14,
   "id": "a5b2efb5",
   "metadata": {},
   "outputs": [
    {
     "data": {
      "text/plain": [
       "str"
      ]
     },
     "execution_count": 14,
     "metadata": {},
     "output_type": "execute_result"
    }
   ],
   "source": [
    "# This is a string named favorite_number\n",
    "type('favorite_number')"
   ]
  },
  {
   "cell_type": "code",
   "execution_count": 15,
   "id": "39825522",
   "metadata": {},
   "outputs": [
    {
     "name": "stdout",
     "output_type": "stream",
     "text": [
      "49\n"
     ]
    }
   ],
   "source": [
    "print(n)"
   ]
  },
  {
   "cell_type": "code",
   "execution_count": 16,
   "id": "6e53fefc",
   "metadata": {},
   "outputs": [],
   "source": [
    "# The value of a variable can be reassigned"
   ]
  },
  {
   "cell_type": "code",
   "execution_count": 19,
   "id": "bd6b0ff0",
   "metadata": {},
   "outputs": [
    {
     "name": "stdout",
     "output_type": "stream",
     "text": [
      "1\n",
      "2\n",
      "8\n"
     ]
    }
   ],
   "source": [
    "x = 1\n",
    "print(x)\n",
    "x = x + 1\n",
    "print(x)\n",
    "x = x * 3 + x\n",
    "print(x)"
   ]
  },
  {
   "cell_type": "code",
   "execution_count": 23,
   "id": "114df71e",
   "metadata": {},
   "outputs": [
    {
     "data": {
      "text/plain": [
       "False"
      ]
     },
     "execution_count": 23,
     "metadata": {},
     "output_type": "execute_result"
    }
   ],
   "source": [
    "# Boolean value\n",
    "# True (capital T)\n",
    "# False (capital F)\n",
    "\n",
    "# Check equality\n",
    "True == False\n"
   ]
  },
  {
   "cell_type": "code",
   "execution_count": 26,
   "id": "c1cc9f4e",
   "metadata": {},
   "outputs": [
    {
     "data": {
      "text/plain": [
       "False"
      ]
     },
     "execution_count": 26,
     "metadata": {},
     "output_type": "execute_result"
    }
   ],
   "source": [
    "# Checking inequality\n",
    "# Is True NOT EQUAL to True\n",
    "True != True"
   ]
  },
  {
   "cell_type": "code",
   "execution_count": 27,
   "id": "1ab7c693",
   "metadata": {},
   "outputs": [
    {
     "data": {
      "text/plain": [
       "True"
      ]
     },
     "execution_count": 27,
     "metadata": {},
     "output_type": "execute_result"
    }
   ],
   "source": [
    "# Is True NOT EQUAL to False\n",
    "True != False"
   ]
  },
  {
   "cell_type": "code",
   "execution_count": 29,
   "id": "96d4c6a9",
   "metadata": {},
   "outputs": [
    {
     "data": {
      "text/plain": [
       "True"
      ]
     },
     "execution_count": 29,
     "metadata": {},
     "output_type": "execute_result"
    }
   ],
   "source": [
    "# not operator takes the opposite Boolean value\n",
    "not False"
   ]
  },
  {
   "cell_type": "code",
   "execution_count": 30,
   "id": "fa0fbb0a",
   "metadata": {},
   "outputs": [],
   "source": [
    "# Truth tables and AND:\n",
    "# True and True = True\n",
    "# True and False = False\n",
    "# False and True = False\n",
    "# False and False = False"
   ]
  },
  {
   "cell_type": "code",
   "execution_count": 31,
   "id": "ad4f34c0",
   "metadata": {},
   "outputs": [],
   "source": [
    "# Truth tables and AND:\n",
    "# True or True = True\n",
    "# True or False = True\n",
    "# False or True = True\n",
    "# False or False = False"
   ]
  },
  {
   "cell_type": "code",
   "execution_count": 32,
   "id": "1ae2a8e3",
   "metadata": {},
   "outputs": [
    {
     "name": "stdout",
     "output_type": "stream",
     "text": [
      "True\n"
     ]
    }
   ],
   "source": [
    "is_first_of_the_month = True\n",
    "report_has_been_sent = False\n",
    "# Assign a Boolean value to should_process_report\n",
    "should_process_report = is_first_of_the_month and not report_has_been_sent\n",
    "\n",
    "print(should_process_report)"
   ]
  },
  {
   "cell_type": "code",
   "execution_count": 33,
   "id": "90e2b61c",
   "metadata": {},
   "outputs": [
    {
     "data": {
      "text/plain": [
       "True"
      ]
     },
     "execution_count": 33,
     "metadata": {},
     "output_type": "execute_result"
    }
   ],
   "source": [
    "# Comparison Operators\n",
    "1 == 1"
   ]
  },
  {
   "cell_type": "code",
   "execution_count": 34,
   "id": "53eb0f9e",
   "metadata": {},
   "outputs": [
    {
     "data": {
      "text/plain": [
       "True"
      ]
     },
     "execution_count": 34,
     "metadata": {},
     "output_type": "execute_result"
    }
   ],
   "source": [
    "# Compare two strings\n",
    "'hello' == 'hello'"
   ]
  },
  {
   "cell_type": "code",
   "execution_count": 36,
   "id": "55ddd096",
   "metadata": {},
   "outputs": [
    {
     "data": {
      "text/plain": [
       "False"
      ]
     },
     "execution_count": 36,
     "metadata": {},
     "output_type": "execute_result"
    }
   ],
   "source": [
    "# Compare two strings\n",
    "'hello' != 'hello'"
   ]
  },
  {
   "cell_type": "code",
   "execution_count": 35,
   "id": "c38cc6e1",
   "metadata": {},
   "outputs": [
    {
     "data": {
      "text/plain": [
       "True"
      ]
     },
     "execution_count": 35,
     "metadata": {},
     "output_type": "execute_result"
    }
   ],
   "source": [
    "# Check inequality\n",
    "'hello' != 'Hello'"
   ]
  },
  {
   "cell_type": "code",
   "execution_count": 37,
   "id": "9c42ba58",
   "metadata": {},
   "outputs": [
    {
     "data": {
      "text/plain": [
       "True"
      ]
     },
     "execution_count": 37,
     "metadata": {},
     "output_type": "execute_result"
    }
   ],
   "source": [
    "4 + 5 > 10 - 2"
   ]
  },
  {
   "cell_type": "code",
   "execution_count": 52,
   "id": "84f2a1f9",
   "metadata": {},
   "outputs": [
    {
     "name": "stdout",
     "output_type": "stream",
     "text": [
      "$ 9\n",
      "$ 15\n",
      "$ 3\n",
      "[3, 5, 1]\n"
     ]
    }
   ],
   "source": [
    "little_mermaid = 3\n",
    "brother_bear = 5\n",
    "hercules = 1\n",
    "movies = [little_mermaid, brother_bear, hercules]\n",
    "for item in movies:\n",
    "    item *= 3\n",
    "    print('$', item)\n",
    "print(movies)"
   ]
  },
  {
   "cell_type": "code",
   "execution_count": 53,
   "id": "77c0fe79",
   "metadata": {},
   "outputs": [
    {
     "name": "stdout",
     "output_type": "stream",
     "text": [
      "['one', 'two', 'three']\n"
     ]
    }
   ],
   "source": [
    "my_list = ['one', 'two', 'three']\n",
    "print(my_list)"
   ]
  },
  {
   "cell_type": "code",
   "execution_count": 54,
   "id": "76a42968",
   "metadata": {},
   "outputs": [
    {
     "data": {
      "text/plain": [
       "[[1, 2, 3], [4, 5, 6], [7, 8, 9]]"
      ]
     },
     "execution_count": 54,
     "metadata": {},
     "output_type": "execute_result"
    }
   ],
   "source": [
    "# A list with three lists\n",
    "[[1,2,3],[4,5,6],[7,8,9]]"
   ]
  },
  {
   "cell_type": "code",
   "execution_count": 56,
   "id": "a389d5c2",
   "metadata": {},
   "outputs": [
    {
     "data": {
      "text/plain": [
       "[0, 1, 2, 3, 4, 5, 6, 7, 8, 9]"
      ]
     },
     "execution_count": 56,
     "metadata": {},
     "output_type": "execute_result"
    }
   ],
   "source": [
    "# Creating lists with list comprehension:\n",
    "# Starts with 0.\n",
    "[n for n in range(10)]"
   ]
  },
  {
   "cell_type": "code",
   "execution_count": 57,
   "id": "dea570fa",
   "metadata": {},
   "outputs": [
    {
     "data": {
      "text/plain": [
       "[0, 2, 4, 6, 8, 10, 12, 14, 16, 18]"
      ]
     },
     "execution_count": 57,
     "metadata": {},
     "output_type": "execute_result"
    }
   ],
   "source": [
    "[ n*2 for n in range(10)]"
   ]
  },
  {
   "cell_type": "code",
   "execution_count": 58,
   "id": "8df9985b",
   "metadata": {},
   "outputs": [
    {
     "data": {
      "text/plain": [
       "[0, 4, 8, 12, 16]"
      ]
     },
     "execution_count": 58,
     "metadata": {},
     "output_type": "execute_result"
    }
   ],
   "source": [
    "[n * 2 for n in range(10) if n % 2 ==0]\n",
    "# Checking for equality\n",
    "\"\"\" If n % 2 == 0\n",
    "n = 0 True\n",
    "n = 1 False\n",
    "n = 2 True\n",
    "n = 3 False"
   ]
  },
  {
   "cell_type": "markdown",
   "id": "7e8c6a6d",
   "metadata": {},
   "source": [
    "Three keyboard shortcuts:\n",
    "\n",
    "While the cell highlight is blue, press \"m\" to shift cell to markup.\n",
    "shift + enter runs the cell.\n",
    "\n",
    "While the cell highlight is blue, press \"b\" for a cell below or \"a\" for a cell above.\n",
    "\n",
    "To exit the green highlight, press esc."
   ]
  },
  {
   "cell_type": "markdown",
   "id": "85caa924",
   "metadata": {},
   "source": [
    "# Exercises:"
   ]
  },
  {
   "cell_type": "markdown",
   "id": "c654fa48",
   "metadata": {},
   "source": [
    "Identify the data type of the following values:\n",
    "\n",
    "\n",
    "99.9 - int\n",
    "\n",
    "\"False\" - str\n",
    "\n",
    "False - bool\n",
    "\n",
    "'0' - str\n",
    "\n",
    "0 - int\n",
    "\n",
    "True - bool\n",
    "\n",
    "'True' - str\n",
    "\n",
    "[{}] - list of dictionary\n",
    "\n",
    "{'a': []} - dictionary with a list in the value"
   ]
  },
  {
   "cell_type": "markdown",
   "id": "010744cf",
   "metadata": {},
   "source": [
    "What data type would best represent:\n",
    "\n",
    "A term or phrase typed into a search box? \n",
    "- string\n",
    "\n",
    "If a user is logged in? \n",
    "- boolean\n",
    "\n",
    "A discount amount to apply to a user's shopping cart? \n",
    "- float\n",
    "\n",
    "Whether or not a coupon code is valid?\n",
    "- boolean\n",
    "\n",
    "An email address typed into a registration form?\n",
    "- string\n",
    "\n",
    "The price of a product?\n",
    "- float\n",
    "\n",
    "A Matrix?\n",
    "- list of lists\n",
    "\n",
    "The email addresses collected from a registration form?\n",
    "- dictionary or list\n",
    "\n",
    "Information about applicants to Codeup's data science program?\n",
    "- list of lists"
   ]
  },
  {
   "cell_type": "markdown",
   "id": "423634c0",
   "metadata": {},
   "source": [
    "For each of the following code blocks, read the expression and predict what the result of evaluating it would be, then execute the expression in your Python REPL.\n",
    "\n",
    "\n",
    "'1' + 2\n",
    "- Type Error\n",
    "\n",
    "6 % 4\n",
    "- 2\n",
    "\n",
    "type(6 % 4)\n",
    "- modoleo thing\n",
    "\n",
    "type(type(6 % 4))\n",
    "- function\n",
    "\n",
    "'3 + 4 is ' + 3 + 4\n",
    "- Type error\n",
    "\n",
    "0 < 0\n",
    "- False\n",
    "\n",
    "'False' == False\n",
    "- False\n",
    "\n",
    "True == 'True'\n",
    "- False\n",
    "\n",
    "5 >= -5\n",
    "- True\n",
    "\n",
    "True or \"42\"\n",
    "- True\n",
    "\n",
    "6 % 5\n",
    "- 1\n",
    "\n",
    "5 < 4 and 1 == 1\n",
    "- False\n",
    "\n",
    "'codeup' == 'codeup' and 'codeup' == 'Codeup'\n",
    "- False\n",
    "\n",
    "4 >= 0 and 1 !== '1'\n",
    "- True (wrong, syntax error)\n",
    "\n",
    "6 % 3 == 0\n",
    "- True\n",
    "\n",
    "5 % 2 != 0\n",
    "- True\n",
    "\n",
    "[1] + 2\n",
    "- Type error\n",
    "\n",
    "[1] + [2]\n",
    "- Lists will be added [1,2]\n",
    "\n",
    "[1] * 2\n",
    "- List numbers doubled [1,1]\n",
    "\n",
    "[1] * [2]\n",
    "- Type error\n",
    "\n",
    "[] + [] == []\n",
    "- True\n",
    "\n",
    "{} + {}\n",
    "- Type error"
   ]
  },
  {
   "cell_type": "code",
   "execution_count": null,
   "id": "c76c150e",
   "metadata": {},
   "outputs": [],
   "source": []
  },
  {
   "cell_type": "code",
   "execution_count": null,
   "id": "33f9e528",
   "metadata": {},
   "outputs": [],
   "source": []
  }
 ],
 "metadata": {
  "kernelspec": {
   "display_name": "Python 3 (ipykernel)",
   "language": "python",
   "name": "python3"
  },
  "language_info": {
   "codemirror_mode": {
    "name": "ipython",
    "version": 3
   },
   "file_extension": ".py",
   "mimetype": "text/x-python",
   "name": "python",
   "nbconvert_exporter": "python",
   "pygments_lexer": "ipython3",
   "version": "3.9.12"
  }
 },
 "nbformat": 4,
 "nbformat_minor": 5
}
