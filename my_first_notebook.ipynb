{
 "cells": [
  {
   "cell_type": "markdown",
   "id": "c859a54c",
   "metadata": {},
   "source": [
    "# First Codeup Jypter Notebook"
   ]
  },
  {
   "cell_type": "code",
   "execution_count": 1,
   "id": "7d2ec762",
   "metadata": {},
   "outputs": [],
   "source": [
    "# Typing \"b\" will insert a cell below."
   ]
  },
  {
   "cell_type": "code",
   "execution_count": 2,
   "id": "f09fde27",
   "metadata": {},
   "outputs": [],
   "source": [
    "# When the cell outline is blue, typing \"m\" will change to markup and let you type messages."
   ]
  },
  {
   "cell_type": "markdown",
   "id": "fcc437e1",
   "metadata": {},
   "source": [
    "Shift + return is how you execute a cell."
   ]
  },
  {
   "cell_type": "code",
   "execution_count": 3,
   "id": "046b8a5f",
   "metadata": {},
   "outputs": [],
   "source": [
    "greeting = \"Hello World\""
   ]
  },
  {
   "cell_type": "code",
   "execution_count": 4,
   "id": "00d06e64",
   "metadata": {},
   "outputs": [
    {
     "name": "stdout",
     "output_type": "stream",
     "text": [
      "Hello World\n"
     ]
    }
   ],
   "source": [
    "print(greeting)"
   ]
  },
  {
   "cell_type": "markdown",
   "id": "397c1150",
   "metadata": {},
   "source": [
    "The output from an executed cell shows up below it. Example shown above."
   ]
  },
  {
   "cell_type": "code",
   "execution_count": null,
   "id": "39825522",
   "metadata": {},
   "outputs": [],
   "source": []
  }
 ],
 "metadata": {
  "kernelspec": {
   "display_name": "Python 3 (ipykernel)",
   "language": "python",
   "name": "python3"
  },
  "language_info": {
   "codemirror_mode": {
    "name": "ipython",
    "version": 3
   },
   "file_extension": ".py",
   "mimetype": "text/x-python",
   "name": "python",
   "nbconvert_exporter": "python",
   "pygments_lexer": "ipython3",
   "version": "3.9.12"
  }
 },
 "nbformat": 4,
 "nbformat_minor": 5
}
